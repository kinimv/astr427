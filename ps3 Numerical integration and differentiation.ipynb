{
 "cells": [
  {
   "cell_type": "markdown",
   "metadata": {},
   "source": [
    "# PS3"
   ]
  },
  {
   "cell_type": "markdown",
   "metadata": {},
   "source": [
    "# Question 1: Performing the Integral"
   ]
  },
  {
   "cell_type": "markdown",
   "metadata": {},
   "source": [
    "## Part a - Midpoint Centering"
   ]
  },
  {
   "cell_type": "code",
   "execution_count": 103,
   "metadata": {},
   "outputs": [],
   "source": [
    "import math\n",
    "def midpoint(f, a, b, n):\n",
    "    h = float(b-a)/n\n",
    "    result = 0\n",
    "    for i in range(n):\n",
    "        result += f((a + h/2.0) + i*h)\n",
    "    result *= h\n",
    "    return result"
   ]
  },
  {
   "cell_type": "code",
   "execution_count": 104,
   "metadata": {},
   "outputs": [],
   "source": [
    "f1 = lambda x:((x**4) - (2*x) + 1)"
   ]
  },
  {
   "cell_type": "code",
   "execution_count": 105,
   "metadata": {},
   "outputs": [
    {
     "data": {
      "text/plain": [
       "4.346760000000002"
      ]
     },
     "execution_count": 105,
     "metadata": {},
     "output_type": "execute_result"
    }
   ],
   "source": [
    "midpoint(f1,0,2,n=10)"
   ]
  },
  {
   "cell_type": "code",
   "execution_count": 106,
   "metadata": {},
   "outputs": [
    {
     "data": {
      "text/plain": [
       "4.399466676000002"
      ]
     },
     "execution_count": 106,
     "metadata": {},
     "output_type": "execute_result"
    }
   ],
   "source": [
    "midpoint(f1,0,2,n=100)"
   ]
  },
  {
   "cell_type": "code",
   "execution_count": 107,
   "metadata": {},
   "outputs": [
    {
     "data": {
      "text/plain": [
       "4.399994666667599"
      ]
     },
     "execution_count": 107,
     "metadata": {},
     "output_type": "execute_result"
    }
   ],
   "source": [
    "midpoint(f1,0,2,n=1000)"
   ]
  },
  {
   "cell_type": "markdown",
   "metadata": {},
   "source": [
    "## Part b - Trapezoidal Centering"
   ]
  },
  {
   "cell_type": "code",
   "execution_count": 108,
   "metadata": {},
   "outputs": [],
   "source": [
    "def trapezoidal(f, a, b, n):\n",
    "    dx = float(b-a)/n\n",
    "    result = 0.5*f(a) + 0.5*f(b)\n",
    "    for i in range(1, n):\n",
    "        result += f(a + i*dx)\n",
    "    result *= dx\n",
    "    return result"
   ]
  },
  {
   "cell_type": "code",
   "execution_count": 109,
   "metadata": {},
   "outputs": [
    {
     "data": {
      "text/plain": [
       "4.50656"
      ]
     },
     "execution_count": 109,
     "metadata": {},
     "output_type": "execute_result"
    }
   ],
   "source": [
    "trapezoidal(f1,0,2,n=10)"
   ]
  },
  {
   "cell_type": "code",
   "execution_count": 110,
   "metadata": {},
   "outputs": [
    {
     "data": {
      "text/plain": [
       "4.401066656"
      ]
     },
     "execution_count": 110,
     "metadata": {},
     "output_type": "execute_result"
    }
   ],
   "source": [
    "trapezoidal(f1,0,2,n=100)"
   ]
  },
  {
   "cell_type": "code",
   "execution_count": 111,
   "metadata": {},
   "outputs": [
    {
     "data": {
      "text/plain": [
       "4.400010666665601"
      ]
     },
     "execution_count": 111,
     "metadata": {},
     "output_type": "execute_result"
    }
   ],
   "source": [
    "trapezoidal(f1,0,2,n=1000)"
   ]
  },
  {
   "cell_type": "markdown",
   "metadata": {},
   "source": [
    "## Part c - Simpson's Rule"
   ]
  },
  {
   "cell_type": "code",
   "execution_count": 112,
   "metadata": {},
   "outputs": [],
   "source": [
    "def simpson(f, a, b, n):\n",
    "    h=(b-a)/n\n",
    "    k=0.0\n",
    "    x=a + h\n",
    "    for i in range(1,int(n/2 + 1)):\n",
    "        k += 4*f(x)\n",
    "        x += 2*h\n",
    "    x = a + 2*h\n",
    "    for i in range(1,int(n/2)):\n",
    "        k += 2*f(x)\n",
    "        x += 2*h\n",
    "    return (h/3)*(f(a)+f(b)+k)"
   ]
  },
  {
   "cell_type": "code",
   "execution_count": 113,
   "metadata": {},
   "outputs": [
    {
     "name": "stdout",
     "output_type": "stream",
     "text": [
      "4.40042666666666537623\n"
     ]
    }
   ],
   "source": [
    "print(format(simpson(f1,0,2,n=10), '.20f'))"
   ]
  },
  {
   "cell_type": "code",
   "execution_count": 114,
   "metadata": {},
   "outputs": [
    {
     "data": {
      "text/plain": [
       "4.400000042666677"
      ]
     },
     "execution_count": 114,
     "metadata": {},
     "output_type": "execute_result"
    }
   ],
   "source": [
    "simpson(f1,0,2,n=100)"
   ]
  },
  {
   "cell_type": "code",
   "execution_count": 115,
   "metadata": {},
   "outputs": [
    {
     "data": {
      "text/plain": [
       "4.400000000004284"
      ]
     },
     "execution_count": 115,
     "metadata": {},
     "output_type": "execute_result"
    }
   ],
   "source": [
    "simpson(f1,0,2,n=1000)"
   ]
  },
  {
   "cell_type": "markdown",
   "metadata": {},
   "source": [
    "## Part d"
   ]
  },
  {
   "cell_type": "code",
   "execution_count": 116,
   "metadata": {},
   "outputs": [
    {
     "name": "stdout",
     "output_type": "stream",
     "text": [
      "Percentage error in midpoint rule:  0.053332399999828084 percent\n"
     ]
    }
   ],
   "source": [
    "print(\"Percentage error in midpoint rule: \", (4.4-midpoint(f1,0,2,n=100))*100, \"percent\")"
   ]
  },
  {
   "cell_type": "code",
   "execution_count": 117,
   "metadata": {},
   "outputs": [
    {
     "name": "stdout",
     "output_type": "stream",
     "text": [
      "Percentage error in trapezoidal rule:  0.10666559999998881 percent\n"
     ]
    }
   ],
   "source": [
    "print(\"Percentage error in trapezoidal rule: \", abs((4.4-trapezoidal(f1,0,2,n=100))*100), \"percent\")"
   ]
  },
  {
   "cell_type": "code",
   "execution_count": 118,
   "metadata": {},
   "outputs": [
    {
     "name": "stdout",
     "output_type": "stream",
     "text": [
      "Percentage error in Simponson's rule:  4.283684518213704e-10 percent\n"
     ]
    }
   ],
   "source": [
    "print(\"Percentage error in Simponson's rule: \", abs((4.4-simpson(f1,0,2,n=1000))*100), \"percent\")"
   ]
  },
  {
   "cell_type": "markdown",
   "metadata": {},
   "source": [
    "Comparing the errors for the three methods, we can see that using Simpson's rule, we can get by far the best results and least error percentage. Midpoint and trapezoidal rules have similar errors, with midpoint being slighlty more accurate"
   ]
  },
  {
   "cell_type": "code",
   "execution_count": 187,
   "metadata": {},
   "outputs": [
    {
     "name": "stdout",
     "output_type": "stream",
     "text": [
      "4.4000106663989325 4.400000000004284\n"
     ]
    }
   ],
   "source": [
    "h = 1E-5\n",
    "def derivative(f, a, order):\n",
    "    if order == 1:\n",
    "        return (f(a + h) - f (a)) / h\n",
    "    else:\n",
    "        return (derivative(f, a + h, order - 1) - derivative(f, a, order - 1)) / h\n",
    "    \n",
    "traperror = (1/12)*(h**2)*abs(derivative(f1,0,1)-derivative(f1,2,1))\n",
    "simpsonerror = (1/180)*(h**4)*abs(derivative(f1,0,3)-derivative(f1,2,3))\n",
    "\n",
    "print((trapezoidal(f1,0,2,n=1000) - traperror), (simpson(f1,0,2,n=1000) - simpsonerror))"
   ]
  },
  {
   "cell_type": "markdown",
   "metadata": {},
   "source": [
    "Adding the error, the methods give more accurate results."
   ]
  },
  {
   "cell_type": "markdown",
   "metadata": {},
   "source": [
    "## Part e"
   ]
  },
  {
   "cell_type": "code",
   "execution_count": 119,
   "metadata": {},
   "outputs": [
    {
     "name": "stdout",
     "output_type": "stream",
     "text": [
      "4.400000000000000\n"
     ]
    }
   ],
   "source": [
    "N = 2**int(np.log(10)/np.log(2)+.5)+1\n",
    "xarr = np.linspace(0, 2, N) #make an array of size N\n",
    "#with endpoints 0 and 2\n",
    "h = xarr[1]-xarr[0] #this is our stepsize\n",
    "print(format(integrate.romb(f1(xarr), h), '.15f'))"
   ]
  },
  {
   "cell_type": "code",
   "execution_count": 120,
   "metadata": {},
   "outputs": [
    {
     "name": "stdout",
     "output_type": "stream",
     "text": [
      "4.400000000000000\n"
     ]
    }
   ],
   "source": [
    "N = 2**int(np.log(100)/np.log(2)+.5)+1\n",
    "xarr = np.linspace(0, 2, N) #make an array of size N\n",
    "#with endpoints 0 and 2\n",
    "h = xarr[1]-xarr[0] #this is our stepsize\n",
    "print(format(integrate.romb(f1(xarr), h), '.15f'))"
   ]
  },
  {
   "cell_type": "code",
   "execution_count": 122,
   "metadata": {},
   "outputs": [
    {
     "name": "stdout",
     "output_type": "stream",
     "text": [
      "4.400000000000000\n"
     ]
    }
   ],
   "source": [
    "N = 2**int(np.log(1000)/np.log(2)+.5)+1\n",
    "xarr = np.linspace(0, 2, N) #make an array of size N\n",
    "#with endpoints 0 and 2\n",
    "h = xarr[1]-xarr[0] #this is our stepsize\n",
    "print(format(integrate.romb(f1(xarr), h), '.15f'))"
   ]
  },
  {
   "cell_type": "markdown",
   "metadata": {},
   "source": [
    "## Part f"
   ]
  },
  {
   "cell_type": "markdown",
   "metadata": {},
   "source": [
    "The number of evaluations this routine needs to evaluate it 7 since it is a fourth degree polynomial and the total number of evaluations would be eual to or less than (2n-1)"
   ]
  },
  {
   "cell_type": "markdown",
   "metadata": {},
   "source": [
    "## Part g"
   ]
  },
  {
   "cell_type": "code",
   "execution_count": 143,
   "metadata": {},
   "outputs": [],
   "source": [
    "result = (1 - cos(math.degrees(22)))/11"
   ]
  },
  {
   "cell_type": "code",
   "execution_count": 144,
   "metadata": {},
   "outputs": [
    {
     "name": "stdout",
     "output_type": "stream",
     "text": [
      "0.158743369529744\n"
     ]
    }
   ],
   "source": [
    "print(result)"
   ]
  },
  {
   "cell_type": "code",
   "execution_count": 168,
   "metadata": {},
   "outputs": [],
   "source": [
    "f2 = lambda x: sin(11*x)"
   ]
  },
  {
   "cell_type": "code",
   "execution_count": 169,
   "metadata": {},
   "outputs": [
    {
     "data": {
      "text/plain": [
       "0.1*sin(22) + 0.102676758165284"
      ]
     },
     "execution_count": 169,
     "metadata": {},
     "output_type": "execute_result"
    }
   ],
   "source": [
    "trapezoidal(f2,0,2,n=10)"
   ]
  },
  {
   "cell_type": "code",
   "execution_count": 170,
   "metadata": {},
   "outputs": [
    {
     "data": {
      "text/plain": [
       "0.224410268139703"
      ]
     },
     "execution_count": 170,
     "metadata": {},
     "output_type": "execute_result"
    }
   ],
   "source": [
    "midpoint(f2,0,2,n=10)"
   ]
  },
  {
   "cell_type": "code",
   "execution_count": 171,
   "metadata": {},
   "outputs": [
    {
     "data": {
      "text/plain": [
       "0.182181798328343"
      ]
     },
     "execution_count": 171,
     "metadata": {},
     "output_type": "execute_result"
    }
   ],
   "source": [
    "midpoint(f2,0,2,n=100)"
   ]
  },
  {
   "cell_type": "code",
   "execution_count": 172,
   "metadata": {},
   "outputs": [
    {
     "data": {
      "text/plain": [
       "0.181818287227940"
      ]
     },
     "execution_count": 172,
     "metadata": {},
     "output_type": "execute_result"
    }
   ],
   "source": [
    "midpoint(f2,0,2,n=1000)"
   ]
  },
  {
   "cell_type": "code",
   "execution_count": 173,
   "metadata": {},
   "outputs": [
    {
     "data": {
      "text/plain": [
       "0.01*sin(22) + 0.181169222478078"
      ]
     },
     "execution_count": 173,
     "metadata": {},
     "output_type": "execute_result"
    }
   ],
   "source": [
    "trapezoidal(f2,0,2,n=100)"
   ]
  },
  {
   "cell_type": "code",
   "execution_count": 174,
   "metadata": {},
   "outputs": [
    {
     "data": {
      "text/plain": [
       "0.001*sin(22) + 0.181816138641769"
      ]
     },
     "execution_count": 174,
     "metadata": {},
     "output_type": "execute_result"
    }
   ],
   "source": [
    "trapezoidal(f2,0,2,n=1000)"
   ]
  },
  {
   "cell_type": "code",
   "execution_count": 175,
   "metadata": {},
   "outputs": [
    {
     "data": {
      "text/plain": [
       "0.0666666666666667*sin(22) + 0.233363126114866"
      ]
     },
     "execution_count": 175,
     "metadata": {},
     "output_type": "execute_result"
    }
   ],
   "source": [
    "simpson(f2,0,2,n=10)"
   ]
  },
  {
   "cell_type": "code",
   "execution_count": 176,
   "metadata": {},
   "outputs": [
    {
     "data": {
      "text/plain": [
       "0.00666666666666667*sin(22) + 0.18187600918912"
      ]
     },
     "execution_count": 176,
     "metadata": {},
     "output_type": "execute_result"
    }
   ],
   "source": [
    "simpson(f2,0,2,n=100)"
   ]
  },
  {
   "cell_type": "code",
   "execution_count": 177,
   "metadata": {},
   "outputs": [
    {
     "data": {
      "text/plain": [
       "0.000666666666666667*sin(22) + 0.181820521690822"
      ]
     },
     "execution_count": 177,
     "metadata": {},
     "output_type": "execute_result"
    }
   ],
   "source": [
    "simpson(f2,0,2,n=1000)"
   ]
  },
  {
   "cell_type": "code",
   "execution_count": null,
   "metadata": {},
   "outputs": [],
   "source": [
    "N = 2**int(np.log(10)/np.log(2)+.5)+1\n",
    "xarr = np.linspace(0, 2, N) #make an array of size N\n",
    "#with endpoints 0 and 2\n",
    "h = xarr[1]-xarr[0] #this is our stepsize\n",
    "print(format(integrate.romb(f2(xarr), h), '.15f'))"
   ]
  },
  {
   "cell_type": "code",
   "execution_count": null,
   "metadata": {},
   "outputs": [],
   "source": [
    "N = 2**int(np.log(10)/np.log(2)+.5)+1\n",
    "xarr = np.linspace(0, 2, N) #make an array of size N\n",
    "#with endpoints 0 and 2\n",
    "h = xarr[1]-xarr[0] #this is our stepsize\n",
    "print(format(integrate.romb(f2(xarr), h), '.15f'))"
   ]
  },
  {
   "cell_type": "code",
   "execution_count": null,
   "metadata": {},
   "outputs": [],
   "source": [
    "N = 2**int(np.log(10)/np.log(2)+.5)+1\n",
    "xarr = np.linspace(0, 2, N) #make an array of size N\n",
    "#with endpoints 0 and 2\n",
    "h = xarr[1]-xarr[0] #this is our stepsize\n",
    "print(format(integrate.romb(f2(xarr), h), '.15f'))"
   ]
  },
  {
   "cell_type": "markdown",
   "metadata": {},
   "source": [
    "Comparing the errors for the three methods, we can see that using Simpson's rule, we can get by far the best results and least error percentage. Midpoint and trapezoidal rules have similar errors, with midpoint being slighlty more accurate"
   ]
  },
  {
   "cell_type": "markdown",
   "metadata": {},
   "source": [
    "# Question 2"
   ]
  },
  {
   "cell_type": "code",
   "execution_count": 17,
   "metadata": {},
   "outputs": [],
   "source": [
    "#Analytic derivation\n",
    "from sympy import *\n",
    "import numpy as np\n",
    "x = Symbol('x')\n",
    "y = x**4 - 2*x + 1\n",
    "yprime = y.diff(x)\n",
    "yprime\n",
    "\n",
    "analytic_func = lambdify(x, yprime, 'numpy')"
   ]
  },
  {
   "cell_type": "code",
   "execution_count": 42,
   "metadata": {},
   "outputs": [],
   "source": [
    "derivative = lambda x: f(x+0.00001) - f(x-0.00001) / 0.00001\n",
    "\n",
    "f = lambda x: x**4 \n",
    "# f1 = 4x^3\n",
    "# f2 = 12x^2\n",
    "# f3 = 24x\n",
    "\n",
    "h = 1E-5\n",
    "\n",
    "def derivative(f, a, order):\n",
    "    h = 1E-5\n",
    "    if order == 1:\n",
    "        return (f(a + h) - f (a)) / h\n",
    "    else:\n",
    "        return (derivative(f, a + h, order - 1) - derivative(f, a, order - 1)) / h\n",
    "    \n",
    "def derivativeO1(f,a):\n",
    "    return derivative(f, a, 1)\n",
    "    \n",
    "def derivativeO2(f,a):    \n",
    "    return derivative(f, a, 1) - 0.5 * h * derivative(f, a, 2)\n",
    "    \n",
    "def derivativeO4(f,a):\n",
    "    return derivativeO2(f,a) - (1/6)*(h**2)* derivative(f,a,3) - (1/24)*(h**3)*derivative(f,a,4)\n"
   ]
  },
  {
   "cell_type": "markdown",
   "metadata": {},
   "source": [
    "### with N = 10"
   ]
  },
  {
   "cell_type": "code",
   "execution_count": 57,
   "metadata": {},
   "outputs": [
    {
     "data": {
      "text/plain": [
       "<matplotlib.legend.Legend at 0x7c0da3b71048>"
      ]
     },
     "execution_count": 57,
     "metadata": {},
     "output_type": "execute_result"
    },
    {
     "data": {
      "image/png": "[encoded data removed]",
      "text/plain": [
       "<Figure size 432x288 with 1 Axes>"
      ]
     },
     "metadata": {
      "needs_background": "light"
     },
     "output_type": "display_data"
    }
   ],
   "source": [
    "import matplotlib.pyplot as pyplot\n",
    "import matplotlib.patches as mpatches\n",
    "import numpy as np\n",
    "f = lambda x: x**4 - 2*x + 1\n",
    "N=10\n",
    "a=0\n",
    "b=2\n",
    "lst = np.linspace(a,b,N)\n",
    "calc = list(map(lambda x: derivativeO1(f,x), lst))\n",
    "calc2 = list(map(lambda x: derivativeO2(f,x), lst))\n",
    "calc4 = list(map(lambda x: derivativeO4(f,x), lst))\n",
    "analytic = list(map(lambda x: analytic_func(x), lst))\n",
    "stuff = range(len(analytic))\n",
    "#pyplot.plot(lst,calc)\n",
    "diff_plot = list(map(lambda x: abs((calc[x] - analytic[x]) / analytic[x]), stuff))\n",
    "diff_plot2 = list(map(lambda x: abs((calc2[x] - analytic[x]) / analytic[x]), stuff))\n",
    "diff_plot4 = list(map(lambda x: abs((calc4[x] - analytic[x]) / analytic[x]), stuff))\n",
    "\n",
    "pyplot.semilogy(lst,diff_plot)\n",
    "pyplot.semilogy(lst,diff_plot2)\n",
    "pyplot.semilogy(lst,diff_plot4)\n",
    "pyplot.ylabel(\"Residual Error\")\n",
    "pyplot.xlabel(\"Values of x\")\n",
    "\n",
    "Oh = mpatches.Patch(color='blue', label='O(h)')\n",
    "Oh2 = mpatches.Patch(color='green', label='O(h^2)')\n",
    "Oh4 = mpatches.Patch(color='orange', label='O(h^4)')\n",
    "pyplot.legend(handles=[Oh, Oh2, Oh4])"
   ]
  },
  {
   "cell_type": "markdown",
   "metadata": {},
   "source": [
    "### with N = 100"
   ]
  },
  {
   "cell_type": "code",
   "execution_count": 56,
   "metadata": {},
   "outputs": [
    {
     "data": {
      "text/plain": [
       "<matplotlib.legend.Legend at 0x7c0da40f6e48>"
      ]
     },
     "execution_count": 56,
     "metadata": {},
     "output_type": "execute_result"
    },
    {
     "data": {
      "image/png": "[encoded data removed]",
      "text/plain": [
       "<Figure size 432x288 with 1 Axes>"
      ]
     },
     "metadata": {
      "needs_background": "light"
     },
     "output_type": "display_data"
    }
   ],
   "source": [
    "import matplotlib.pyplot as pyplot\n",
    "import matplotlib.patches as mpatches\n",
    "import numpy as np\n",
    "f = lambda x: x**4 - 2*x + 1\n",
    "N=100\n",
    "a=0\n",
    "b=2\n",
    "lst = np.linspace(a,b,N)\n",
    "calc = list(map(lambda x: derivativeO1(f,x), lst))\n",
    "calc2 = list(map(lambda x: derivativeO2(f,x), lst))\n",
    "calc4 = list(map(lambda x: derivativeO4(f,x), lst))\n",
    "analytic = list(map(lambda x: analytic_func(x), lst))\n",
    "stuff = range(len(analytic))\n",
    "#pyplot.plot(lst,calc)\n",
    "diff_plot = list(map(lambda x: abs((calc[x] - analytic[x]) / analytic[x]), stuff))\n",
    "diff_plot2 = list(map(lambda x: abs((calc2[x] - analytic[x]) / analytic[x]), stuff))\n",
    "diff_plot4 = list(map(lambda x: abs((calc4[x] - analytic[x]) / analytic[x]), stuff))\n",
    "\n",
    "pyplot.semilogy(lst,diff_plot)\n",
    "pyplot.semilogy(lst,diff_plot2)\n",
    "pyplot.semilogy(lst,diff_plot4)\n",
    "pyplot.ylabel(\"Residual Error\")\n",
    "pyplot.xlabel(\"Values of x\")\n",
    "\n",
    "Oh = mpatches.Patch(color='blue', label='O(h)')\n",
    "Oh2 = mpatches.Patch(color='green', label='O(h^2)')\n",
    "Oh4 = mpatches.Patch(color='orange', label='O(h^4)')\n",
    "pyplot.legend(handles=[Oh, Oh2, Oh4])"
   ]
  },
  {
   "cell_type": "markdown",
   "metadata": {},
   "source": [
    "# Question 3"
   ]
  },
  {
   "cell_type": "code",
   "execution_count": 2,
   "metadata": {},
   "outputs": [],
   "source": [
    "from numpy import ones,copy,cos,tan,pi,linspace\n",
    "\n",
    "def gaussxw(N):\n",
    "\n",
    "    # Initial approximation to roots of the Legendre polynomial\n",
    "    a = linspace(3,4*N-1,N)/(4*N+2)\n",
    "    x = cos(pi*a+1/(8*N*N*tan(a)))\n",
    "\n",
    "    # Find roots using Newton's method\n",
    "    epsilon = 1e-15\n",
    "    delta = 1.0\n",
    "    while delta>epsilon:\n",
    "        p0 = ones(N,float)\n",
    "        p1 = copy(x)\n",
    "        for k in range(1,N):\n",
    "            p0,p1 = p1,((2*k+1)*x*p1-k*p0)/(k+1)\n",
    "        dp = (N+1)*(p0-x*p1)/(1-x*x)\n",
    "        dx = p1/dp\n",
    "        x -= dx\n",
    "        delta = max(abs(dx))\n",
    "\n",
    "    # Calculate the weights\n",
    "    w = 2*(N+1)*(N+1)/(N*N*(1-x*x)*dp*dp)\n",
    "\n",
    "    return x,w\n",
    "\n",
    "def gaussxwab(N,a,b):\n",
    "    x,w = gaussxw(N)\n",
    "    return 0.5*(b-a)*x+0.5*(b+a),0.5*(b-a)*w"
   ]
  },
  {
   "cell_type": "code",
   "execution_count": 5,
   "metadata": {},
   "outputs": [
    {
     "data": {
      "text/plain": [
       "Text(0, 0.5, 'Force (Newtons)')"
      ]
     },
     "execution_count": 5,
     "metadata": {},
     "output_type": "execute_result"
    },
    {
     "data": {
      "image/png": "[encoded data removed]",
      "text/plain": [
       "<Figure size 432x288 with 1 Axes>"
      ]
     },
     "metadata": {
      "needs_background": "light"
     },
     "output_type": "display_data"
    }
   ],
   "source": [
    "import matplotlib.pyplot as plt\n",
    "\n",
    "m = 1 # 1 kg\n",
    "G = 6.674e-11\n",
    "Mp = 10000 # 10 metric tonnes\n",
    "A = 100 # 100 meters squared\n",
    "sigma = m * (Mp/A)\n",
    "f = lambda x,y,z: (x**2 + y**2 + z**2)**-3/2\n",
    "\n",
    "N = 100\n",
    "x,w = gaussxw(N)\n",
    "\n",
    "def forcecalc(z):\n",
    "    a = -5\n",
    "    b = 5\n",
    "    xp = 0.5*(b-a)*x + 0.5*(b+a)\n",
    "    yp = xp\n",
    "    wp = 0.5*(b-a)*w\n",
    "    \n",
    "    integral=0\n",
    "    for i in range(N):\n",
    "        for j in range(N):\n",
    "            integral+=wp[i]*wp[j]*f(xp[i],yp[j],z)\n",
    "        \n",
    "    Force  = G * sigma * z * integral\n",
    "    return Force\n",
    "\n",
    "z = linspace(0,10)\n",
    "Force = [forcecalc(zi) for zi in z]\n",
    "plt.plot(z,Force)\n",
    "plt.xlabel('z (meters)')\n",
    "plt.ylabel('Force (Newtons)')"
   ]
  },
  {
   "cell_type": "markdown",
   "metadata": {},
   "source": [
    "## Part c"
   ]
  },
  {
   "cell_type": "markdown",
   "metadata": {},
   "source": [
    "This drop is an artifact of the weighting that we use in this part, at the areas below where we see the drop, the small weighting values become significant enough for the force to drop to zero. We can fix this by either reducing the weights further or else staggering the x axis and not starting theit at zero"
   ]
  },
  {
   "cell_type": "code",
   "execution_count": null,
   "metadata": {},
   "outputs": [],
   "source": []
  }
 ],
 "metadata": {
  "kernelspec": {
   "display_name": "Python 3",
   "language": "python",
   "name": "python3"
  },
  "language_info": {
   "codemirror_mode": {
    "name": "ipython",
    "version": 3
   },
   "file_extension": ".py",
   "mimetype": "text/x-python",
   "name": "python",
   "nbconvert_exporter": "python",
   "pygments_lexer": "ipython3",
   "version": "3.7.2"
  }
 },
 "nbformat": 4,
 "nbformat_minor": 2
}
