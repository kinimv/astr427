{
 "cells": [
  {
   "cell_type": "markdown",
   "metadata": {},
   "source": [
    "# ps4"
   ]
  },
  {
   "cell_type": "markdown",
   "metadata": {},
   "source": [
    "# Question 1"
   ]
  },
  {
   "cell_type": "markdown",
   "metadata": {},
   "source": [
    "## Roots of one-dimensional equations"
   ]
  },
  {
   "cell_type": "code",
   "execution_count": 180,
   "metadata": {},
   "outputs": [],
   "source": [
    "import numpy as np\n",
    "import math\n",
    "import matplotlib.pyplot as plt"
   ]
  },
  {
   "cell_type": "code",
   "execution_count": 181,
   "metadata": {},
   "outputs": [],
   "source": [
    "def bisection(f,a,b,N):\n",
    "    a_n = a\n",
    "    b_n = b\n",
    "    for n in range(1,N+1):\n",
    "        m_n = (a_n + b_n)/2\n",
    "        f_m_n = f(m_n)\n",
    "        if f(a_n)*f_m_n < 0:\n",
    "            a_n = a_n\n",
    "            b_n = m_n\n",
    "            guesslist.append((a_n + b_n)/2)\n",
    "        elif f(b_n)*f_m_n < 0:\n",
    "            a_n = m_n\n",
    "            b_n = b_n\n",
    "    return (a_n + b_n)/2 #midpoint solution"
   ]
  },
  {
   "cell_type": "code",
   "execution_count": 182,
   "metadata": {},
   "outputs": [],
   "source": [
    "accuracy = 1e-12\n",
    "def newton(f,Df,N):\n",
    "    xn = 1 #initial guess\n",
    "    for n in range(0,N):\n",
    "        fxn = f(xn)\n",
    "        if abs(fxn) < accuracy:\n",
    "            print('Solution within accuracy after',n,'iterations.')\n",
    "            return xn\n",
    "        Dfxn = Df(xn)\n",
    "        guesslist.append(xn)\n",
    "        xn = xn - fxn/Dfxn\n",
    "    return None"
   ]
  },
  {
   "cell_type": "code",
   "execution_count": 183,
   "metadata": {},
   "outputs": [],
   "source": [
    "a = 2.0\n",
    "f1 = lambda x: x**2 - a\n",
    "df1 = lambda x: 2*x\n",
    "\n",
    "M = 1.5\n",
    "e = 0.5\n",
    "\n",
    "f2 = lambda E: M - E - (e*math.sin(E))\n",
    "df2 = lambda E: -(e*math.cos(E)) - 1\n",
    "\n",
    "M2 = 1.5\n",
    "e2 = 0.9\n",
    "\n",
    "f3 = lambda E: M2 - E - (e2*math.sin(E))\n",
    "df3 = lambda E: -(e2*math.cos(E)) - 1"
   ]
  },
  {
   "cell_type": "markdown",
   "metadata": {},
   "source": [
    "### Bisection Method - Function 1"
   ]
  },
  {
   "cell_type": "code",
   "execution_count": 184,
   "metadata": {},
   "outputs": [
    {
     "data": {
      "text/plain": [
       "1.414213562373095"
      ]
     },
     "execution_count": 184,
     "metadata": {},
     "output_type": "execute_result"
    }
   ],
   "source": [
    "guesslist = []\n",
    "bisection(f1,0,2*math.pi,100)"
   ]
  },
  {
   "cell_type": "code",
   "execution_count": 185,
   "metadata": {},
   "outputs": [
    {
     "data": {
      "text/plain": [
       "[<matplotlib.lines.Line2D at 0x7cc505462358>]"
      ]
     },
     "execution_count": 185,
     "metadata": {},
     "output_type": "execute_result"
    },
    {
     "data": {
      "image/png": "[encoded data removed]",
      "text/plain": [
       "<Figure size 432x288 with 1 Axes>"
      ]
     },
     "metadata": {
      "needs_background": "light"
     },
     "output_type": "display_data"
    }
   ],
   "source": [
    "# \"True\" root taken as 1.41421356237\n",
    "errorlist = []\n",
    "item = 0\n",
    "for ind in guesslist:\n",
    "    item = abs(1.41421356237 - ind)\n",
    "    errorlist.append(item)\n",
    "    \n",
    "iterslist = list(range(len(errorlist)))\n",
    "plt.semilogy(iterslist,errorlist)\n"
   ]
  },
  {
   "cell_type": "markdown",
   "metadata": {},
   "source": [
    "### Newton's Method - Function 1"
   ]
  },
  {
   "cell_type": "code",
   "execution_count": 186,
   "metadata": {},
   "outputs": [
    {
     "name": "stdout",
     "output_type": "stream",
     "text": [
      "Solution within accuracy after 5 iterations.\n"
     ]
    },
    {
     "data": {
      "text/plain": [
       "1.4142135623730951"
      ]
     },
     "execution_count": 186,
     "metadata": {},
     "output_type": "execute_result"
    }
   ],
   "source": [
    "guesslist = []\n",
    "newton(f1,df1,10)"
   ]
  },
  {
   "cell_type": "code",
   "execution_count": 187,
   "metadata": {},
   "outputs": [
    {
     "data": {
      "text/plain": [
       "[<matplotlib.lines.Line2D at 0x7cc505165f98>]"
      ]
     },
     "execution_count": 187,
     "metadata": {},
     "output_type": "execute_result"
    },
    {
     "data": {
      "image/png": "[encoded data removed]",
      "text/plain": [
       "<Figure size 432x288 with 1 Axes>"
      ]
     },
     "metadata": {
      "needs_background": "light"
     },
     "output_type": "display_data"
    }
   ],
   "source": [
    "# \"True\" root taken as 1.41421356237\n",
    "iterslist = []\n",
    "errorlist = []\n",
    "item = 0\n",
    "for ind in guesslist:\n",
    "    item = abs(1.41421356237 - ind)\n",
    "    errorlist.append(item)\n",
    "    \n",
    "iterslist = list(range(len(errorlist)))\n",
    "plt.semilogy(iterslist,errorlist)"
   ]
  },
  {
   "cell_type": "markdown",
   "metadata": {},
   "source": [
    "### Bisection Method - Function 2"
   ]
  },
  {
   "cell_type": "code",
   "execution_count": 188,
   "metadata": {},
   "outputs": [
    {
     "data": {
      "text/plain": [
       "1.0630731347759919"
      ]
     },
     "execution_count": 188,
     "metadata": {},
     "output_type": "execute_result"
    }
   ],
   "source": [
    "guesslist = []\n",
    "bisection(f2,0,2,100)"
   ]
  },
  {
   "cell_type": "code",
   "execution_count": 189,
   "metadata": {},
   "outputs": [
    {
     "data": {
      "text/plain": [
       "[<matplotlib.lines.Line2D at 0x7cc50507e0f0>]"
      ]
     },
     "execution_count": 189,
     "metadata": {},
     "output_type": "execute_result"
    },
    {
     "data": {
      "image/png": "[encoded data removed]",
      "text/plain": [
       "<Figure size 432x288 with 1 Axes>"
      ]
     },
     "metadata": {
      "needs_background": "light"
     },
     "output_type": "display_data"
    }
   ],
   "source": [
    "errorlist = []\n",
    "item = 0\n",
    "for ind in guesslist:\n",
    "    item = abs(1.0630731347759919 - ind)\n",
    "    errorlist.append(item)\n",
    "    \n",
    "iterslist = list(range(len(errorlist)))\n",
    "plt.semilogy(iterslist,errorlist)\n"
   ]
  },
  {
   "cell_type": "markdown",
   "metadata": {},
   "source": [
    "### Newton's Method - Function 2"
   ]
  },
  {
   "cell_type": "code",
   "execution_count": 190,
   "metadata": {},
   "outputs": [
    {
     "name": "stdout",
     "output_type": "stream",
     "text": [
      "Solution within accuracy after 3 iterations.\n"
     ]
    },
    {
     "data": {
      "text/plain": [
       "1.0630731347759907"
      ]
     },
     "execution_count": 190,
     "metadata": {},
     "output_type": "execute_result"
    }
   ],
   "source": [
    "guesslist = []\n",
    "newton(f2,df2,100)"
   ]
  },
  {
   "cell_type": "markdown",
   "metadata": {},
   "source": [
    "The questions ask to solve for E in the interval 0 ≤ E < 2π. This root is well within the interval "
   ]
  },
  {
   "cell_type": "code",
   "execution_count": 191,
   "metadata": {},
   "outputs": [
    {
     "data": {
      "text/plain": [
       "[<matplotlib.lines.Line2D at 0x7cc505021d30>]"
      ]
     },
     "execution_count": 191,
     "metadata": {},
     "output_type": "execute_result"
    },
    {
     "data": {
      "image/png": "[encoded data removed]",
      "text/plain": [
       "<Figure size 432x288 with 1 Axes>"
      ]
     },
     "metadata": {
      "needs_background": "light"
     },
     "output_type": "display_data"
    }
   ],
   "source": [
    "iterslist = []\n",
    "errorlist = []\n",
    "item = 0\n",
    "for ind in guesslist:\n",
    "    item = abs(1.0630731347759919 - ind)\n",
    "    errorlist.append(item)\n",
    "    \n",
    "iterslist = list(range(len(errorlist)))\n",
    "plt.semilogy(iterslist,errorlist)"
   ]
  },
  {
   "cell_type": "markdown",
   "metadata": {},
   "source": [
    "### Bisection Method - Function 3"
   ]
  },
  {
   "cell_type": "code",
   "execution_count": 195,
   "metadata": {},
   "outputs": [
    {
     "data": {
      "text/plain": [
       "0.8336495190146682"
      ]
     },
     "execution_count": 195,
     "metadata": {},
     "output_type": "execute_result"
    }
   ],
   "source": [
    "guesslist = []\n",
    "bisection(f3,0,2,100)"
   ]
  },
  {
   "cell_type": "code",
   "execution_count": 196,
   "metadata": {},
   "outputs": [
    {
     "data": {
      "text/plain": [
       "[<matplotlib.lines.Line2D at 0x7cc504e0c198>]"
      ]
     },
     "execution_count": 196,
     "metadata": {},
     "output_type": "execute_result"
    },
    {
     "data": {
      "image/png": "[encoded data removed]",
      "text/plain": [
       "<Figure size 432x288 with 1 Axes>"
      ]
     },
     "metadata": {
      "needs_background": "light"
     },
     "output_type": "display_data"
    }
   ],
   "source": [
    "errorlist = []\n",
    "item = 0\n",
    "for ind in guesslist:\n",
    "    item = abs(0.8336495190146682 - ind)\n",
    "    errorlist.append(item)\n",
    "    \n",
    "iterslist = list(range(len(errorlist)))\n",
    "plt.semilogy(iterslist,errorlist)"
   ]
  },
  {
   "cell_type": "markdown",
   "metadata": {},
   "source": [
    "### Newton's Method - Function 3"
   ]
  },
  {
   "cell_type": "code",
   "execution_count": 197,
   "metadata": {},
   "outputs": [
    {
     "name": "stdout",
     "output_type": "stream",
     "text": [
      "Solution within accuracy after 4 iterations.\n"
     ]
    },
    {
     "data": {
      "text/plain": [
       "0.8336495190146682"
      ]
     },
     "execution_count": 197,
     "metadata": {},
     "output_type": "execute_result"
    }
   ],
   "source": [
    "guesslist = []\n",
    "newton(f3,df3,100)"
   ]
  },
  {
   "cell_type": "code",
   "execution_count": 198,
   "metadata": {},
   "outputs": [
    {
     "data": {
      "text/plain": [
       "[<matplotlib.lines.Line2D at 0x7cc504d565f8>]"
      ]
     },
     "execution_count": 198,
     "metadata": {},
     "output_type": "execute_result"
    },
    {
     "data": {
      "image/png": "[encoded data removed]",
      "text/plain": [
       "<Figure size 432x288 with 1 Axes>"
      ]
     },
     "metadata": {
      "needs_background": "light"
     },
     "output_type": "display_data"
    }
   ],
   "source": [
    "iterslist = []\n",
    "errorlist = []\n",
    "item = 0\n",
    "for ind in guesslist:\n",
    "    item = abs(0.8336495190144092 - ind)\n",
    "    errorlist.append(item)\n",
    "    \n",
    "iterslist = list(range(len(errorlist)))\n",
    "plt.semilogy(iterslist,errorlist)"
   ]
  },
  {
   "cell_type": "markdown",
   "metadata": {},
   "source": [
    "# Question 2"
   ]
  },
  {
   "cell_type": "markdown",
   "metadata": {},
   "source": [
    "As clearly demonstarted above, Newton's method is far more computationally efficient and is hence the preferred method for solving Kepler's method over the Binary Search method."
   ]
  },
  {
   "cell_type": "markdown",
   "metadata": {},
   "source": []
  },
  {
   "cell_type": "code",
   "execution_count": 201,
   "metadata": {},
   "outputs": [],
   "source": [
    "Mvalues = np.linspace(0,2*math.pi,20)"
   ]
  },
  {
   "cell_type": "code",
   "execution_count": 202,
   "metadata": {},
   "outputs": [
    {
     "name": "stdout",
     "output_type": "stream",
     "text": [
      "Solution within accuracy after 4 iterations.\n",
      "Solution within accuracy after 4 iterations.\n",
      "Solution within accuracy after 4 iterations.\n",
      "Solution within accuracy after 4 iterations.\n",
      "Solution within accuracy after 4 iterations.\n",
      "Solution within accuracy after 3 iterations.\n",
      "Solution within accuracy after 4 iterations.\n",
      "Solution within accuracy after 4 iterations.\n",
      "Solution within accuracy after 5 iterations.\n",
      "Solution within accuracy after 6 iterations.\n",
      "Solution within accuracy after 7 iterations.\n",
      "Solution within accuracy after 8 iterations.\n",
      "Solution within accuracy after 7 iterations.\n",
      "Solution within accuracy after 11 iterations.\n",
      "Solution within accuracy after 17 iterations.\n",
      "Solution within accuracy after 8 iterations.\n",
      "Solution within accuracy after 7 iterations.\n",
      "Solution within accuracy after 11 iterations.\n",
      "Solution within accuracy after 11 iterations.\n",
      "Solution within accuracy after 6 iterations.\n"
     ]
    },
    {
     "data": {
      "text/plain": [
       "[1.0,\n",
       " 0.17446807894700717,\n",
       " 0.35150655558362337,\n",
       " 0.5339996766706107,\n",
       " 0.7255700433375349,\n",
       " 0.9313084671624194,\n",
       " 1.1592946832939284,\n",
       " 1.424475032155117,\n",
       " 1.7619434597846748,\n",
       " 1.0,\n",
       " 1.0,\n",
       " 1.0,\n",
       " 1.0,\n",
       " 1.0,\n",
       " 1.0,\n",
       " 1.0,\n",
       " 1.0,\n",
       " 1.0,\n",
       " 1.0,\n",
       " 1.0]"
      ]
     },
     "execution_count": 202,
     "metadata": {},
     "output_type": "execute_result"
    }
   ],
   "source": [
    "bisectionroots = []\n",
    "newtonroots = []\n",
    "e = 0.9\n",
    "for ind in Mvalues:\n",
    "    M = ind\n",
    "    f = lambda E: M - E - (e2*math.sin(E))\n",
    "    df = lambda E: -(e2*math.cos(E)) - 1\n",
    "    bisectionroots.append(bisection(f,0,2,100))\n",
    "    newtonroots.append(newton(f,df,100))\n",
    "    \n",
    "bisectionroots"
   ]
  },
  {
   "cell_type": "code",
   "execution_count": 203,
   "metadata": {},
   "outputs": [
    {
     "data": {
      "text/plain": [
       "[0.0,\n",
       " 0.17446807894700714,\n",
       " 0.3515065555836233,\n",
       " 0.5339996766706107,\n",
       " 0.725570043337535,\n",
       " 0.931308467162394,\n",
       " 1.1592946832939284,\n",
       " 1.4244750321550737,\n",
       " 1.7619434597846748,\n",
       " 2.3129052889771056,\n",
       " 3.970280018204565,\n",
       " 4.521241847394911,\n",
       " 4.858710275024469,\n",
       " 5.123890623885874,\n",
       " 5.3518768400171925,\n",
       " 5.557615263842141,\n",
       " 5.749185630509095,\n",
       " 5.931678751595963,\n",
       " 6.108717228232579,\n",
       " 6.283185307179586]"
      ]
     },
     "execution_count": 203,
     "metadata": {},
     "output_type": "execute_result"
    }
   ],
   "source": [
    "newtonroots"
   ]
  },
  {
   "cell_type": "markdown",
   "metadata": {},
   "source": [
    "Comparing the outputs of both the bisection and newton methods, it is evident that the Newton-Raphson method is more accurate. I will hence use "
   ]
  },
  {
   "cell_type": "code",
   "execution_count": 204,
   "metadata": {},
   "outputs": [],
   "source": [
    "sinpoints = []\n",
    "cospoints = []\n",
    "for root in newtonroots:\n",
    "    sinpoints.append(math.sin(root))\n",
    "    cospoints.append(math.cos(root))"
   ]
  },
  {
   "cell_type": "code",
   "execution_count": 205,
   "metadata": {},
   "outputs": [
    {
     "data": {
      "image/png": "[encoded data removed]",
      "text/plain": [
       "<Figure size 432x288 with 1 Axes>"
      ]
     },
     "metadata": {
      "needs_background": "light"
     },
     "output_type": "display_data"
    }
   ],
   "source": [
    "plt.plot(sinpoints, cospoints, 'ro')\n",
    "plt.axhline(0, color='b')\n",
    "plt.axvline(0, color='b')\n",
    "plt.axis([-2, 2, -2, 2])\n",
    "plt.show()\n"
   ]
  },
  {
   "cell_type": "markdown",
   "metadata": {},
   "source": [
    "Using the solver to plot sin(E) vs cos(E) in the Kepler solver, we can see that if we imagine the range of values to be an ellipse around the origin on the sin-cos plane, most of values are speaced close together in the upper half, whereas few values are in the lower half. This shows extreme eccentricity that is engrained in this system. This is a visual representation of extreme eccentricity, since we took e = 0.9. Hence, 90% (18 out of 20) points are in the upper half"
   ]
  },
  {
   "cell_type": "markdown",
   "metadata": {},
   "source": [
    "# Question 3"
   ]
  },
  {
   "cell_type": "markdown",
   "metadata": {},
   "source": [
    "In this case, the Newton's method for root-finding for a function we have been using can be tweaked to find points  of local extrema for this differentiable function. Since our polynomial is in one variable, we only need to differentiate the function once. \n",
    "This is the derivative of the the data over the time t. We can then plug in d(t)' = 0, and consequently find both the maxima and minima of the function."
   ]
  },
  {
   "cell_type": "markdown",
   "metadata": {},
   "source": [
    "# Question 4"
   ]
  },
  {
   "cell_type": "markdown",
   "metadata": {},
   "source": [
    "Solving for the the variable r that needs solving,"
   ]
  },
  {
   "cell_type": "code",
   "execution_count": 206,
   "metadata": {},
   "outputs": [
    {
     "ename": "SyntaxError",
     "evalue": "invalid syntax (<ipython-input-206-ae4680156b6c>, line 9)",
     "output_type": "error",
     "traceback": [
      "\u001b[0;36m  File \u001b[0;32m\"<ipython-input-206-ae4680156b6c>\"\u001b[0;36m, line \u001b[0;32m9\u001b[0m\n\u001b[0;31m    ifloat =\u001b[0m\n\u001b[0m             ^\u001b[0m\n\u001b[0;31mSyntaxError\u001b[0m\u001b[0;31m:\u001b[0m invalid syntax\n"
     ]
    }
   ],
   "source": [
    "vinf = 100\n",
    "\n",
    "r = [1.0,2.0,3.0,4.0,5.0,6.0,7.0,8.0,9.0,10.0]\n",
    "vmodel = [ 12.09,47.53,51.80,63.28,90.33,84.32,92.23,94.84,99.37,94.42]\n",
    "r0 = [0,0,0,0,0,0,0,0,0,0]\n",
    "ifloat = 0.0\n",
    "\n",
    "for i in range(10):\n",
    "    ifloat = \n",
    "    r0[i] = r[i] /(math.log(-(vmodel[i]-vinf)/vinf))\n",
    "\n",
    "\n",
    "rmodel = np.linspace(np.min(r), np.max(r), 10)\n",
    "n = 1\n",
    "p = np.polyfit(r, vmodel, n)\n",
    "print(p) #will print the modelled values of robs and vobs"
   ]
  },
  {
   "cell_type": "code",
   "execution_count": 207,
   "metadata": {},
   "outputs": [],
   "source": [
    "yhat = np.polyval(p, r)\n",
    "ymodel = np.polyval(p, vmodel)"
   ]
  },
  {
   "cell_type": "code",
   "execution_count": 208,
   "metadata": {},
   "outputs": [
    {
     "name": "stdout",
     "output_type": "stream",
     "text": [
      "0.8099256298032197\n"
     ]
    },
    {
     "data": {
      "text/plain": [
       "<matplotlib.legend.Legend at 0x7cc504b85e80>"
      ]
     },
     "execution_count": 208,
     "metadata": {},
     "output_type": "execute_result"
    },
    {
     "data": {
      "image/png": "[encoded data removed]",
      "text/plain": [
       "<Figure size 432x288 with 1 Axes>"
      ]
     },
     "metadata": {
      "needs_background": "light"
     },
     "output_type": "display_data"
    }
   ],
   "source": [
    "st = np.sum((vmodel - np.mean(vmodel))**2)\n",
    "sr = np.sum((vmodel - yhat)**2)\n",
    "r2 = (st - sr) / st\n",
    "print(r2)\n",
    "\n",
    "\n",
    "plt.figure(1)\n",
    "plt.clf()\n",
    "plt.plot(r, vmodel, 'ko', label='Data')\n",
    "plt.plot(r, yhat, 'ks', label='Estimates', mfc='none')\n",
    "plt.plot(rmodel, ymodel, 'k-', label='Model')\n",
    "plt.grid(1)\n",
    "plt.legend()"
   ]
  },
  {
   "cell_type": "markdown",
   "metadata": {},
   "source": [
    "The r0 that gives best fit is at 8.48418182 kiloparsecs"
   ]
  },
  {
   "cell_type": "code",
   "execution_count": null,
   "metadata": {},
   "outputs": [],
   "source": []
  }
 ],
 "metadata": {
  "kernelspec": {
   "display_name": "Python 3",
   "language": "python",
   "name": "python3"
  },
  "language_info": {
   "codemirror_mode": {
    "name": "ipython",
    "version": 3
   },
   "file_extension": ".py",
   "mimetype": "text/x-python",
   "name": "python",
   "nbconvert_exporter": "python",
   "pygments_lexer": "ipython3",
   "version": "3.7.2"
  }
 },
 "nbformat": 4,
 "nbformat_minor": 2
}
